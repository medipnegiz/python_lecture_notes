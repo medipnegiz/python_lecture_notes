{
 "cells": [
  {
   "cell_type": "code",
   "execution_count": 3,
   "metadata": {},
   "outputs": [
    {
     "name": "stdout",
     "output_type": "stream",
     "text": [
      "['row_number', ' first_name', ' last_name', ' ages']\n",
      "['1', ' Ufuk', ' Gökkan', ' 31']\n",
      "['2', ' Murat', ' Tertip', ' 30']\n",
      "['3', ' Ahmet', ' Cemil', ' 42']\n",
      "['4', ' Mert', ' Öztürk', ' 35']\n",
      "['5', ' Cem', ' Türk', ' 40']\n"
     ]
    }
   ],
   "source": [
    "import csv\n",
    "with open(\"people.csv\", \"r\", encoding='utf-8', newline='') as f:\n",
    "    oku = csv.reader(f)\n",
    "    for line in oku:\n",
    "        print(line)"
   ]
  },
  {
   "cell_type": "code",
   "execution_count": 6,
   "metadata": {},
   "outputs": [
    {
     "name": "stdout",
     "output_type": "stream",
     "text": [
      "   no     fruit amount\n",
      "0   6     Melon   3 kg\n",
      "1   7  Erdbeere   5 kg\n",
      "2   8    Banana   7 kg\n"
     ]
    }
   ],
   "source": [
    "import pandas as pd\n",
    "veri = {'no': [6,7,8],\n",
    "        'fruit': ['Melon', 'Erdbeere', 'Banana'],\n",
    "        'amount': ['3 kg', '5 kg', '7 kg']}\n",
    "df = pd.DataFrame(veri)\n",
    "df.to_csv('fruit.csv', mode='a', header=False, index=False)         #   tekrar baslik eklememesi icin header kullanildi\n",
    "print(df)"
   ]
  },
  {
   "cell_type": "code",
   "execution_count": 13,
   "metadata": {},
   "outputs": [
    {
     "name": "stdout",
     "output_type": "stream",
     "text": [
      "Markasi..: Mercedes\n",
      "Rengi..: siyah\n",
      "Kapi sayisi..: 5\n",
      "None\n",
      "\n",
      "Markasi..: BMC\n",
      "Rengi..: beyaz\n",
      "Kapi sayisi..: 3\n",
      "None\n"
     ]
    }
   ],
   "source": [
    "class araba:\n",
    "    kapi = 5\n",
    "\n",
    "    def __init__(self, renk, marka, kapi):        #   \"__init__\" ile baslar ve parantez ici \"self\" ile baslar. Nesne kendine atifta bulunur\n",
    "        self.renk = renk\n",
    "        self.marka = marka\n",
    "        self.kapi = kapi\n",
    "        #   return kullanilmaz\n",
    "\n",
    "    def aracinfo(self):\n",
    "        print('Markasi..:', self.marka)\n",
    "        print('Rengi..:', self.renk)\n",
    "        print('Kapi sayisi..:', self.kapi)\n",
    "    \n",
    "    def calis(self, start):\n",
    "        start = True\n",
    "        return start\n",
    "\n",
    "taksi = araba('siyah', 'Mercedes', 5)     #   objekt\n",
    "kamyon = araba('beyaz', 'BMC', 3)    #   objekt\n",
    "\n",
    "print(taksi.aracinfo())\n",
    "print()\n",
    "print(kamyon.aracinfo())"
   ]
  },
  {
   "cell_type": "code",
   "execution_count": 25,
   "metadata": {},
   "outputs": [
    {
     "name": "stdout",
     "output_type": "stream",
     "text": [
      "Murat Terzi muratterzi@gmail.com\n",
      "Zamli maasi..:6000\n"
     ]
    }
   ],
   "source": [
    "class personel:\n",
    "    \n",
    "    def __init__(self, ad, soyad, maas, yas):\n",
    "        self.ad = ad\n",
    "        self.soyad = soyad\n",
    "        self.mail = ad.lower() + soyad.lower() + '@gmail.com'\n",
    "        self.maas = maas\n",
    "        self.yas = yas\n",
    "\n",
    "    def tamAd(self):\n",
    "        return f\"{self.ad} {self.soyad} {self.mail}\"\n",
    "\n",
    "    def maaszam(self):\n",
    "        zam = 1.2\n",
    "        self.maas = int(self.maas * zam)\n",
    "        return f'Zamli maasi..:{self.maas}'\n",
    "    \n",
    "calisan = personel('Murat', 'Terzi', 5000, 30)\n",
    "calisan2 = personel('Ufuk', 'Gökkaya', 7000, 32)\n",
    "\n",
    "print(calisan.tamAd())\n",
    "print(calisan.maaszam())"
   ]
  },
  {
   "cell_type": "code",
   "execution_count": 18,
   "metadata": {},
   "outputs": [
    {
     "name": "stdout",
     "output_type": "stream",
     "text": [
      "[10, 23, 56, [78]]\n"
     ]
    }
   ],
   "source": [
    "import copy\n",
    "a=[10,23,56,[78]]\n",
    "b=copy.deepcopy(a)      #  id'leri farkli olarak kopyalar. a'da degisiklik olursa b'de olmaz \n",
    "c = copy.copy(b)        #   id leri ayni olarak kopyalar. b'de degisiklik olursa burasi da degisir\n",
    "a[3][0]=95\n",
    "a[1]=34\n",
    "print(b)"
   ]
  },
  {
   "cell_type": "code",
   "execution_count": 19,
   "metadata": {},
   "outputs": [
    {
     "name": "stdout",
     "output_type": "stream",
     "text": [
      "[1, 3, 6, 10]\n"
     ]
    }
   ],
   "source": [
    "a=[1,2,3,4]\n",
    "b=[sum(a[0:x+1]) for x in range(0,len(a))]\n",
    "print(b)"
   ]
  }
 ],
 "metadata": {
  "interpreter": {
   "hash": "37fed0e9f99ee4438047b02e9f82c6f0158975eb1899028c647225c9c0c2c990"
  },
  "kernelspec": {
   "display_name": "Python 3.10.2 64-bit",
   "language": "python",
   "name": "python3"
  },
  "language_info": {
   "codemirror_mode": {
    "name": "ipython",
    "version": 3
   },
   "file_extension": ".py",
   "mimetype": "text/x-python",
   "name": "python",
   "nbconvert_exporter": "python",
   "pygments_lexer": "ipython3",
   "version": "3.10.2"
  },
  "orig_nbformat": 4
 },
 "nbformat": 4,
 "nbformat_minor": 2
}
